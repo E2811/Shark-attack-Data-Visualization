{
 "cells": [
  {
   "cell_type": "code",
   "execution_count": 1,
   "metadata": {},
   "outputs": [],
   "source": [
    "import pandas as pd\n",
    "import re \n",
    "import matplotlib.pyplot as plt\n",
    "#import SRC.function as f"
   ]
  },
  {
   "cell_type": "code",
   "execution_count": 2,
   "metadata": {},
   "outputs": [
    {
     "data": {
      "text/html": [
       "<div>\n",
       "<style scoped>\n",
       "    .dataframe tbody tr th:only-of-type {\n",
       "        vertical-align: middle;\n",
       "    }\n",
       "\n",
       "    .dataframe tbody tr th {\n",
       "        vertical-align: top;\n",
       "    }\n",
       "\n",
       "    .dataframe thead th {\n",
       "        text-align: right;\n",
       "    }\n",
       "</style>\n",
       "<table border=\"1\" class=\"dataframe\">\n",
       "  <thead>\n",
       "    <tr style=\"text-align: right;\">\n",
       "      <th></th>\n",
       "      <th>Case Number</th>\n",
       "      <th>Date</th>\n",
       "      <th>Year</th>\n",
       "      <th>Type</th>\n",
       "      <th>Country</th>\n",
       "      <th>Area</th>\n",
       "      <th>Location</th>\n",
       "      <th>Activity</th>\n",
       "      <th>Name</th>\n",
       "      <th>Sex</th>\n",
       "      <th>...</th>\n",
       "      <th>Species</th>\n",
       "      <th>Investigator or Source</th>\n",
       "      <th>pdf</th>\n",
       "      <th>href formula</th>\n",
       "      <th>href</th>\n",
       "      <th>Case Number.1</th>\n",
       "      <th>Case Number.2</th>\n",
       "      <th>original order</th>\n",
       "      <th>Unnamed: 22</th>\n",
       "      <th>Unnamed: 23</th>\n",
       "    </tr>\n",
       "  </thead>\n",
       "  <tbody>\n",
       "    <tr>\n",
       "      <th>0</th>\n",
       "      <td>2016.09.18.c</td>\n",
       "      <td>18-Sep-16</td>\n",
       "      <td>2016</td>\n",
       "      <td>Unprovoked</td>\n",
       "      <td>USA</td>\n",
       "      <td>Florida</td>\n",
       "      <td>New Smyrna Beach, Volusia County</td>\n",
       "      <td>Surfing</td>\n",
       "      <td>male</td>\n",
       "      <td>M</td>\n",
       "      <td>...</td>\n",
       "      <td>NaN</td>\n",
       "      <td>Orlando Sentinel, 9/19/2016</td>\n",
       "      <td>2016.09.18.c-NSB.pdf</td>\n",
       "      <td>http://sharkattackfile.net/spreadsheets/pdf_di...</td>\n",
       "      <td>http://sharkattackfile.net/spreadsheets/pdf_di...</td>\n",
       "      <td>2016.09.18.c</td>\n",
       "      <td>2016.09.18.c</td>\n",
       "      <td>5993</td>\n",
       "      <td>NaN</td>\n",
       "      <td>NaN</td>\n",
       "    </tr>\n",
       "    <tr>\n",
       "      <th>1</th>\n",
       "      <td>2016.09.18.b</td>\n",
       "      <td>18-Sep-16</td>\n",
       "      <td>2016</td>\n",
       "      <td>Unprovoked</td>\n",
       "      <td>USA</td>\n",
       "      <td>Florida</td>\n",
       "      <td>New Smyrna Beach, Volusia County</td>\n",
       "      <td>Surfing</td>\n",
       "      <td>Chucky Luciano</td>\n",
       "      <td>M</td>\n",
       "      <td>...</td>\n",
       "      <td>NaN</td>\n",
       "      <td>Orlando Sentinel, 9/19/2016</td>\n",
       "      <td>2016.09.18.b-Luciano.pdf</td>\n",
       "      <td>http://sharkattackfile.net/spreadsheets/pdf_di...</td>\n",
       "      <td>http://sharkattackfile.net/spreadsheets/pdf_di...</td>\n",
       "      <td>2016.09.18.b</td>\n",
       "      <td>2016.09.18.b</td>\n",
       "      <td>5992</td>\n",
       "      <td>NaN</td>\n",
       "      <td>NaN</td>\n",
       "    </tr>\n",
       "    <tr>\n",
       "      <th>2</th>\n",
       "      <td>2016.09.18.a</td>\n",
       "      <td>18-Sep-16</td>\n",
       "      <td>2016</td>\n",
       "      <td>Unprovoked</td>\n",
       "      <td>USA</td>\n",
       "      <td>Florida</td>\n",
       "      <td>New Smyrna Beach, Volusia County</td>\n",
       "      <td>Surfing</td>\n",
       "      <td>male</td>\n",
       "      <td>M</td>\n",
       "      <td>...</td>\n",
       "      <td>NaN</td>\n",
       "      <td>Orlando Sentinel, 9/19/2016</td>\n",
       "      <td>2016.09.18.a-NSB.pdf</td>\n",
       "      <td>http://sharkattackfile.net/spreadsheets/pdf_di...</td>\n",
       "      <td>http://sharkattackfile.net/spreadsheets/pdf_di...</td>\n",
       "      <td>2016.09.18.a</td>\n",
       "      <td>2016.09.18.a</td>\n",
       "      <td>5991</td>\n",
       "      <td>NaN</td>\n",
       "      <td>NaN</td>\n",
       "    </tr>\n",
       "    <tr>\n",
       "      <th>3</th>\n",
       "      <td>2016.09.17</td>\n",
       "      <td>17-Sep-16</td>\n",
       "      <td>2016</td>\n",
       "      <td>Unprovoked</td>\n",
       "      <td>AUSTRALIA</td>\n",
       "      <td>Victoria</td>\n",
       "      <td>Thirteenth Beach</td>\n",
       "      <td>Surfing</td>\n",
       "      <td>Rory Angiolella</td>\n",
       "      <td>M</td>\n",
       "      <td>...</td>\n",
       "      <td>NaN</td>\n",
       "      <td>The Age, 9/18/2016</td>\n",
       "      <td>2016.09.17-Angiolella.pdf</td>\n",
       "      <td>http://sharkattackfile.net/spreadsheets/pdf_di...</td>\n",
       "      <td>http://sharkattackfile.net/spreadsheets/pdf_di...</td>\n",
       "      <td>2016.09.17</td>\n",
       "      <td>2016.09.17</td>\n",
       "      <td>5990</td>\n",
       "      <td>NaN</td>\n",
       "      <td>NaN</td>\n",
       "    </tr>\n",
       "    <tr>\n",
       "      <th>4</th>\n",
       "      <td>2016.09.15</td>\n",
       "      <td>16-Sep-16</td>\n",
       "      <td>2016</td>\n",
       "      <td>Unprovoked</td>\n",
       "      <td>AUSTRALIA</td>\n",
       "      <td>Victoria</td>\n",
       "      <td>Bells Beach</td>\n",
       "      <td>Surfing</td>\n",
       "      <td>male</td>\n",
       "      <td>M</td>\n",
       "      <td>...</td>\n",
       "      <td>2 m shark</td>\n",
       "      <td>The Age, 9/16/2016</td>\n",
       "      <td>2016.09.16-BellsBeach.pdf</td>\n",
       "      <td>http://sharkattackfile.net/spreadsheets/pdf_di...</td>\n",
       "      <td>http://sharkattackfile.net/spreadsheets/pdf_di...</td>\n",
       "      <td>2016.09.16</td>\n",
       "      <td>2016.09.15</td>\n",
       "      <td>5989</td>\n",
       "      <td>NaN</td>\n",
       "      <td>NaN</td>\n",
       "    </tr>\n",
       "  </tbody>\n",
       "</table>\n",
       "<p>5 rows × 24 columns</p>\n",
       "</div>"
      ],
      "text/plain": [
       "    Case Number       Date  Year        Type    Country      Area  \\\n",
       "0  2016.09.18.c  18-Sep-16  2016  Unprovoked        USA   Florida   \n",
       "1  2016.09.18.b  18-Sep-16  2016  Unprovoked        USA   Florida   \n",
       "2  2016.09.18.a  18-Sep-16  2016  Unprovoked        USA   Florida   \n",
       "3    2016.09.17  17-Sep-16  2016  Unprovoked  AUSTRALIA  Victoria   \n",
       "4    2016.09.15  16-Sep-16  2016  Unprovoked  AUSTRALIA  Victoria   \n",
       "\n",
       "                           Location Activity             Name Sex   \\\n",
       "0  New Smyrna Beach, Volusia County  Surfing             male    M   \n",
       "1  New Smyrna Beach, Volusia County  Surfing   Chucky Luciano    M   \n",
       "2  New Smyrna Beach, Volusia County  Surfing             male    M   \n",
       "3                  Thirteenth Beach  Surfing  Rory Angiolella    M   \n",
       "4                       Bells Beach  Surfing             male    M   \n",
       "\n",
       "      ...       Species        Investigator or Source  \\\n",
       "0     ...            NaN  Orlando Sentinel, 9/19/2016   \n",
       "1     ...            NaN  Orlando Sentinel, 9/19/2016   \n",
       "2     ...            NaN  Orlando Sentinel, 9/19/2016   \n",
       "3     ...            NaN           The Age, 9/18/2016   \n",
       "4     ...      2 m shark           The Age, 9/16/2016   \n",
       "\n",
       "                         pdf  \\\n",
       "0       2016.09.18.c-NSB.pdf   \n",
       "1   2016.09.18.b-Luciano.pdf   \n",
       "2       2016.09.18.a-NSB.pdf   \n",
       "3  2016.09.17-Angiolella.pdf   \n",
       "4  2016.09.16-BellsBeach.pdf   \n",
       "\n",
       "                                        href formula  \\\n",
       "0  http://sharkattackfile.net/spreadsheets/pdf_di...   \n",
       "1  http://sharkattackfile.net/spreadsheets/pdf_di...   \n",
       "2  http://sharkattackfile.net/spreadsheets/pdf_di...   \n",
       "3  http://sharkattackfile.net/spreadsheets/pdf_di...   \n",
       "4  http://sharkattackfile.net/spreadsheets/pdf_di...   \n",
       "\n",
       "                                                href Case Number.1  \\\n",
       "0  http://sharkattackfile.net/spreadsheets/pdf_di...  2016.09.18.c   \n",
       "1  http://sharkattackfile.net/spreadsheets/pdf_di...  2016.09.18.b   \n",
       "2  http://sharkattackfile.net/spreadsheets/pdf_di...  2016.09.18.a   \n",
       "3  http://sharkattackfile.net/spreadsheets/pdf_di...    2016.09.17   \n",
       "4  http://sharkattackfile.net/spreadsheets/pdf_di...    2016.09.16   \n",
       "\n",
       "  Case Number.2 original order Unnamed: 22 Unnamed: 23  \n",
       "0  2016.09.18.c           5993         NaN         NaN  \n",
       "1  2016.09.18.b           5992         NaN         NaN  \n",
       "2  2016.09.18.a           5991         NaN         NaN  \n",
       "3    2016.09.17           5990         NaN         NaN  \n",
       "4    2016.09.15           5989         NaN         NaN  \n",
       "\n",
       "[5 rows x 24 columns]"
      ]
     },
     "execution_count": 2,
     "metadata": {},
     "output_type": "execute_result"
    }
   ],
   "source": [
    "shark_df = pd.read_csv(\"INPUT/GSAF5.csv\", engine=\"python\")\n",
    "shark_df.head()"
   ]
  },
  {
   "cell_type": "code",
   "execution_count": 3,
   "metadata": {},
   "outputs": [
    {
     "name": "stdout",
     "output_type": "stream",
     "text": [
      "Number of columns:24\n",
      "List of columns:Index(['Case Number', 'Date', 'Year', 'Type', 'Country', 'Area', 'Location',\n",
      "       'Activity', 'Name', 'Sex ', 'Age', 'Injury', 'Fatal (Y/N)', 'Time',\n",
      "       'Species ', 'Investigator or Source', 'pdf', 'href formula', 'href',\n",
      "       'Case Number.1', 'Case Number.2', 'original order', 'Unnamed: 22',\n",
      "       'Unnamed: 23'],\n",
      "      dtype='object')\n",
      "Number of samples:5992\n"
     ]
    }
   ],
   "source": [
    "#Check number of columns and samples from the dataset \n",
    "shape = shark_df.shape\n",
    "print(f\"Number of columns:{shape[1]}\\nList of columns:{shark_df.columns}\\nNumber of samples:{shape[0]}\")"
   ]
  },
  {
   "cell_type": "code",
   "execution_count": 4,
   "metadata": {},
   "outputs": [
    {
     "name": "stdout",
     "output_type": "stream",
     "text": [
      "Case Number                  0\n",
      "Date                         0\n",
      "Year                         0\n",
      "Type                         0\n",
      "Country                     43\n",
      "Area                       402\n",
      "Location                   496\n",
      "Activity                   527\n",
      "Name                       200\n",
      "Sex                        567\n",
      "Age                       2681\n",
      "Injury                      27\n",
      "Fatal (Y/N)                 19\n",
      "Time                      3213\n",
      "Species                   2934\n",
      "Investigator or Source      15\n",
      "pdf                          0\n",
      "href formula                 1\n",
      "href                         3\n",
      "Case Number.1                0\n",
      "Case Number.2                0\n",
      "original order               0\n",
      "Unnamed: 22               5991\n",
      "Unnamed: 23               5990\n",
      "dtype: int64\n",
      "['Unnamed: 22', 'Unnamed: 23'] can be removed from the dataset\n"
     ]
    }
   ],
   "source": [
    "#Check null values\n",
    "nullvalues = shark_df.isnull().sum()\n",
    "print(nullvalues)\n",
    "#Select columns with a significant number of nullvalues (90%), which can be discarded. \n",
    "columns_to_eliminate = [col for col in shark_df.columns if shark_df[col].isnull().sum() >= (0.9*shape[0])]\n",
    "print(F\"{columns_to_eliminate} can be removed from the dataset\")"
   ]
  },
  {
   "cell_type": "code",
   "execution_count": 5,
   "metadata": {},
   "outputs": [
    {
     "data": {
      "text/html": [
       "<div>\n",
       "<style scoped>\n",
       "    .dataframe tbody tr th:only-of-type {\n",
       "        vertical-align: middle;\n",
       "    }\n",
       "\n",
       "    .dataframe tbody tr th {\n",
       "        vertical-align: top;\n",
       "    }\n",
       "\n",
       "    .dataframe thead th {\n",
       "        text-align: right;\n",
       "    }\n",
       "</style>\n",
       "<table border=\"1\" class=\"dataframe\">\n",
       "  <thead>\n",
       "    <tr style=\"text-align: right;\">\n",
       "      <th></th>\n",
       "      <th>Case Number</th>\n",
       "      <th>Date</th>\n",
       "      <th>Year</th>\n",
       "      <th>Type</th>\n",
       "      <th>Country</th>\n",
       "      <th>Area</th>\n",
       "      <th>Location</th>\n",
       "      <th>Activity</th>\n",
       "      <th>Name</th>\n",
       "      <th>Sex</th>\n",
       "      <th>...</th>\n",
       "      <th>Species</th>\n",
       "      <th>Investigator or Source</th>\n",
       "      <th>pdf</th>\n",
       "      <th>href formula</th>\n",
       "      <th>href</th>\n",
       "      <th>Case Number.1</th>\n",
       "      <th>Case Number.2</th>\n",
       "      <th>original order</th>\n",
       "      <th>Unnamed: 22</th>\n",
       "      <th>Unnamed: 23</th>\n",
       "    </tr>\n",
       "  </thead>\n",
       "  <tbody>\n",
       "    <tr>\n",
       "      <th>1247</th>\n",
       "      <td>2006.06.18</td>\n",
       "      <td>18-Jun-06</td>\n",
       "      <td>2006</td>\n",
       "      <td>Unprovoked</td>\n",
       "      <td>BRAZIL</td>\n",
       "      <td>Pernambuco</td>\n",
       "      <td>Punta Del Chifre Beach, Olinda</td>\n",
       "      <td>Body boarding</td>\n",
       "      <td>Humberto Pessoa Batista</td>\n",
       "      <td>M</td>\n",
       "      <td>...</td>\n",
       "      <td>NaN</td>\n",
       "      <td>globalsurfnews.com</td>\n",
       "      <td>2006.06.18-Batista.pdf</td>\n",
       "      <td>http://sharkattackfile.net/spreadsheets/pdf_di...</td>\n",
       "      <td>http://sharkattackfile.net/spreadsheets/pdf_di...</td>\n",
       "      <td>2006.06.18</td>\n",
       "      <td>2006.06.18</td>\n",
       "      <td>4746</td>\n",
       "      <td>stopped here</td>\n",
       "      <td>NaN</td>\n",
       "    </tr>\n",
       "    <tr>\n",
       "      <th>4182</th>\n",
       "      <td>1952.07.13</td>\n",
       "      <td>13-Jul-52</td>\n",
       "      <td>1952</td>\n",
       "      <td>Provoked</td>\n",
       "      <td>USA</td>\n",
       "      <td>California</td>\n",
       "      <td>San Diego, San Diego County</td>\n",
       "      <td>Fishing</td>\n",
       "      <td>Gerald Howard, on board sportsfishing boat Ter...</td>\n",
       "      <td>M</td>\n",
       "      <td>...</td>\n",
       "      <td>NaN</td>\n",
       "      <td>L.A. Times, 7/14/1952</td>\n",
       "      <td>1952.07.13-Howard.pdf</td>\n",
       "      <td>http://sharkattackfile.net/spreadsheets/pdf_di...</td>\n",
       "      <td>http://sharkattackfile.net/spreadsheets/pdf_di...</td>\n",
       "      <td>1952.07.13</td>\n",
       "      <td>1952.07.13</td>\n",
       "      <td>1811</td>\n",
       "      <td>NaN</td>\n",
       "      <td>Teramo</td>\n",
       "    </tr>\n",
       "    <tr>\n",
       "      <th>5585</th>\n",
       "      <td>1879.03.10</td>\n",
       "      <td>10-Mar-1879</td>\n",
       "      <td>1879</td>\n",
       "      <td>Invalid</td>\n",
       "      <td>AUSTRALIA</td>\n",
       "      <td>New South Wales</td>\n",
       "      <td>Near Sydney</td>\n",
       "      <td>The steamship Bonnie Dundee lost in collision</td>\n",
       "      <td>Cabin boy of the Bonnie Dundee</td>\n",
       "      <td>M</td>\n",
       "      <td>...</td>\n",
       "      <td>NaN</td>\n",
       "      <td>Star, 3/22/1879</td>\n",
       "      <td>1879.03.10-Bonnie-Dundee.pdf</td>\n",
       "      <td>http://sharkattackfile.net/spreadsheets/pdf_di...</td>\n",
       "      <td>http://sharkattackfile.net/spreadsheets/pdf_di...</td>\n",
       "      <td>1879.03.10</td>\n",
       "      <td>1879.03.10</td>\n",
       "      <td>408</td>\n",
       "      <td>NaN</td>\n",
       "      <td>change filename</td>\n",
       "    </tr>\n",
       "  </tbody>\n",
       "</table>\n",
       "<p>3 rows × 24 columns</p>\n",
       "</div>"
      ],
      "text/plain": [
       "     Case Number         Date  Year        Type    Country             Area  \\\n",
       "1247  2006.06.18    18-Jun-06  2006  Unprovoked     BRAZIL       Pernambuco   \n",
       "4182  1952.07.13    13-Jul-52  1952    Provoked        USA       California   \n",
       "5585  1879.03.10  10-Mar-1879  1879     Invalid  AUSTRALIA  New South Wales   \n",
       "\n",
       "                            Location  \\\n",
       "1247  Punta Del Chifre Beach, Olinda   \n",
       "4182     San Diego, San Diego County   \n",
       "5585                    Near Sydney    \n",
       "\n",
       "                                           Activity  \\\n",
       "1247                                  Body boarding   \n",
       "4182                                        Fishing   \n",
       "5585  The steamship Bonnie Dundee lost in collision   \n",
       "\n",
       "                                                   Name Sex        ...         \\\n",
       "1247                            Humberto Pessoa Batista    M       ...          \n",
       "4182  Gerald Howard, on board sportsfishing boat Ter...    M       ...          \n",
       "5585                     Cabin boy of the Bonnie Dundee    M       ...          \n",
       "\n",
       "     Species   Investigator or Source                           pdf  \\\n",
       "1247      NaN      globalsurfnews.com        2006.06.18-Batista.pdf   \n",
       "4182      NaN  L.A. Times, 7/14/1952          1952.07.13-Howard.pdf   \n",
       "5585      NaN         Star, 3/22/1879  1879.03.10-Bonnie-Dundee.pdf   \n",
       "\n",
       "                                           href formula  \\\n",
       "1247  http://sharkattackfile.net/spreadsheets/pdf_di...   \n",
       "4182  http://sharkattackfile.net/spreadsheets/pdf_di...   \n",
       "5585  http://sharkattackfile.net/spreadsheets/pdf_di...   \n",
       "\n",
       "                                                   href Case Number.1  \\\n",
       "1247  http://sharkattackfile.net/spreadsheets/pdf_di...    2006.06.18   \n",
       "4182  http://sharkattackfile.net/spreadsheets/pdf_di...    1952.07.13   \n",
       "5585  http://sharkattackfile.net/spreadsheets/pdf_di...    1879.03.10   \n",
       "\n",
       "     Case Number.2 original order   Unnamed: 22      Unnamed: 23  \n",
       "1247    2006.06.18           4746  stopped here              NaN  \n",
       "4182    1952.07.13           1811           NaN           Teramo  \n",
       "5585    1879.03.10            408           NaN  change filename  \n",
       "\n",
       "[3 rows x 24 columns]"
      ]
     },
     "metadata": {},
     "output_type": "display_data"
    }
   ],
   "source": [
    "#Data provided by the columns to be removed, to check that this information is not relevant. \n",
    "display(shark_df[(shark_df[\"Unnamed: 22\"].isnull()==False)|(shark_df[\"Unnamed: 23\"].isnull()==False)])\n",
    "#Remove columns \n",
    "shark_df = shark_df.drop(columns_to_eliminate, axis=1)"
   ]
  },
  {
   "cell_type": "code",
   "execution_count": 6,
   "metadata": {},
   "outputs": [
    {
     "data": {
      "text/plain": [
       "(5992, 18)"
      ]
     },
     "execution_count": 6,
     "metadata": {},
     "output_type": "execute_result"
    }
   ],
   "source": [
    "#Check duplicate columns. Similarities between href and href formula, as well as, Case Number, Case Number.1 and Case Number.2\n",
    "def check_duplicates(a,b,threshold):\n",
    "    if sum(a==b)>= threshold:\n",
    "        return True\n",
    "thr = 0.9*shape[0]\n",
    "columns_duplicates = [(\"href\",\"href formula\"),(\"Case Number\",\"Case Number.1\"),(\"Case Number\",\"Case Number.2\")]\n",
    "for col in columns_duplicates:\n",
    "    if check_duplicates(shark_df[col[0]],shark_df[col[1]],thr)== True:\n",
    "        shark_df = shark_df.drop(col[1], axis=1)\n",
    "shark_df = shark_df.drop(\"original order\", axis=1)\n",
    "shark_df.head()\n",
    "#No duplicates in this dataset\n",
    "shark_df.drop_duplicates().shape"
   ]
  },
  {
   "cell_type": "code",
   "execution_count": 7,
   "metadata": {},
   "outputs": [],
   "source": [
    "# I performed different analysis based on each column information "
   ]
  },
  {
   "cell_type": "code",
   "execution_count": 8,
   "metadata": {},
   "outputs": [
    {
     "data": {
      "text/html": [
       "<div>\n",
       "<style scoped>\n",
       "    .dataframe tbody tr th:only-of-type {\n",
       "        vertical-align: middle;\n",
       "    }\n",
       "\n",
       "    .dataframe tbody tr th {\n",
       "        vertical-align: top;\n",
       "    }\n",
       "\n",
       "    .dataframe thead th {\n",
       "        text-align: right;\n",
       "    }\n",
       "</style>\n",
       "<table border=\"1\" class=\"dataframe\">\n",
       "  <thead>\n",
       "    <tr style=\"text-align: right;\">\n",
       "      <th></th>\n",
       "      <th>Type</th>\n",
       "      <th>Total</th>\n",
       "    </tr>\n",
       "  </thead>\n",
       "  <tbody>\n",
       "    <tr>\n",
       "      <th>0</th>\n",
       "      <td>Boat</td>\n",
       "      <td>310</td>\n",
       "    </tr>\n",
       "    <tr>\n",
       "      <th>1</th>\n",
       "      <td>Provoked</td>\n",
       "      <td>557</td>\n",
       "    </tr>\n",
       "    <tr>\n",
       "      <th>2</th>\n",
       "      <td>Sea Disaster</td>\n",
       "      <td>220</td>\n",
       "    </tr>\n",
       "    <tr>\n",
       "      <th>3</th>\n",
       "      <td>Unknown</td>\n",
       "      <td>519</td>\n",
       "    </tr>\n",
       "    <tr>\n",
       "      <th>4</th>\n",
       "      <td>Unprovoked</td>\n",
       "      <td>4386</td>\n",
       "    </tr>\n",
       "  </tbody>\n",
       "</table>\n",
       "</div>"
      ],
      "text/plain": [
       "           Type  Total\n",
       "0          Boat    310\n",
       "1      Provoked    557\n",
       "2  Sea Disaster    220\n",
       "3       Unknown    519\n",
       "4    Unprovoked   4386"
      ]
     },
     "metadata": {},
     "output_type": "display_data"
    },
    {
     "name": "stdout",
     "output_type": "stream",
     "text": [
      "The percentage of unprovoked attacks:73.2\n"
     ]
    },
    {
     "data": {
      "image/png": "[encoded data removed]",
      "text/plain": [
       "<Figure size 432x288 with 1 Axes>"
      ]
     },
     "metadata": {},
     "output_type": "display_data"
    }
   ],
   "source": [
    "########## TYPE ############  \n",
    "options = set(shark_df[\"Type\"])\n",
    "shark_df.Type = shark_df.Type.str.replace(r\"Boat(.*)?\",\"Boat\")\n",
    "shark_df.Type = shark_df.Type.str.replace(r\"Invalid(.*)?\",\"Unknown\")\n",
    "shark_df_type = shark_df.groupby(\"Type\").agg({\"Type\":\"count\"})\n",
    "shark_df_type =shark_df_type.rename(columns={\"Type\":\"Total\"})\n",
    "d = dict(shark_df_type.Total)\n",
    "shark_df_type = shark_df_type.reset_index()\n",
    "display(shark_df_type)\n",
    "p = round((d[\"Unprovoked\"]/sum(d.values()))*100,2)\n",
    "print(f\"The percentage of unprovoked attacks:{p}\")\n",
    "plt.pie(shark_df_type['Total'], labels=shark_df_type['Type'],explode=(0, 0, 0, 0, 0.15), autopct='%1d%%')\n",
    "plt.show()"
   ]
  },
  {
   "cell_type": "code",
   "execution_count": 9,
   "metadata": {},
   "outputs": [
    {
     "name": "stdout",
     "output_type": "stream",
     "text": [
      "The Country, where more shark attacks were registered, is USA with 2116 attacks\n",
      "Area with more shark attacks: Florida\n",
      "Location: New Smyrna Beach, Volusia County\n"
     ]
    },
    {
     "data": {
      "image/png": "[encoded data removed]",
      "text/plain": [
       "<Figure size 432x288 with 1 Axes>"
      ]
     },
     "metadata": {
      "needs_background": "light"
     },
     "output_type": "display_data"
    }
   ],
   "source": [
    "################## COUNTRY #################\n",
    "shark_df.Country=shark_df.Country.fillna(\"UNKNOWN\")\n",
    "shark_df.Country=shark_df['Country'].apply(lambda x: x.upper())\n",
    "shark_df.Country = shark_df.Country.str.replace(r\"AA\",\"A\")\n",
    "shark_df.Country = shark_df.Country.str.replace(r\"(.+)\\?\",\"UNKNOWN\")\n",
    "shark_df.Country = shark_df.Country.str.replace(r\"(.*)\\s+/+\\s(.*)\",\"UNKNOWN\")\n",
    "shark_df_Country= pd.DataFrame(shark_df.Country.value_counts()).reset_index().rename(columns={\"index\":\"Country\",\"Country\":\"NºCases\"})\n",
    "shark_df_Country = shark_df_Country[(shark_df_Country[\"NºCases\"] > 55)]\n",
    "shark_df_Country.plot.bar(x=\"Country\")\n",
    "print(f\"The Country, where more shark attacks were registered, is {shark_df_Country.Country[0]} with {shark_df_Country['NºCases'].max()} attacks\")\n",
    "\n",
    "\n",
    "## Estudiar dentro de USA la zona con mayor probabilidad de ataque\n",
    "a = pd.DataFrame(shark_df[(shark_df['Country']=='USA')]['Area'].value_counts()).reset_index().rename(columns={'index':'Area', 'Area':'Cases'}).head()\n",
    "b = pd.DataFrame(shark_df[(shark_df['Country']=='USA')&(shark_df['Area']=='Florida')]['Location'].value_counts()).reset_index()\n",
    "print(f\"Area with more shark attacks: {a['Area'][0]}\\nLocation: {b['index'][0]}\")\n"
   ]
  },
  {
   "cell_type": "code",
   "execution_count": 10,
   "metadata": {},
   "outputs": [
    {
     "name": "stderr",
     "output_type": "stream",
     "text": [
      "/usr/local/lib/python3.7/dist-packages/ipykernel_launcher.py:19: SettingWithCopyWarning: \n",
      "A value is trying to be set on a copy of a slice from a DataFrame\n",
      "\n",
      "See the caveats in the documentation: http://pandas.pydata.org/pandas-docs/stable/indexing.html#indexing-view-versus-copy\n"
     ]
    },
    {
     "data": {
      "text/plain": [
       "<matplotlib.axes._subplots.AxesSubplot at 0x7ff457e13450>"
      ]
     },
     "execution_count": 10,
     "metadata": {},
     "output_type": "execute_result"
    },
    {
     "data": {
      "image/png": "[encoded data removed]",
      "text/plain": [
       "<Figure size 432x288 with 1 Axes>"
      ]
     },
     "metadata": {
      "needs_background": "light"
     },
     "output_type": "display_data"
    }
   ],
   "source": [
    "################## ACTIVITY ######################\n",
    "shark_df.Activity=shark_df.Activity.fillna(\"NotAvailable\")\n",
    "shark_df.Activity=shark_df['Activity'].apply(lambda x: x.lower())\n",
    "def SearchActivity(sequence,pattern):\n",
    "    match = re.search(r\"(.*)?\"+pattern[0]+\"(.*)?\",sequence)\n",
    "    if match:\n",
    "        return pattern[1]\n",
    "Swimming = (\"swim|div|snork|bath|float\",\"Swimming\")\n",
    "Fishing = (\"fish|collec|lobster|sail\",\"Fishing\")\n",
    "Water_Sports = (\"boat|kayak|row|padd|cano|ski\",\"Water_Sports\")\n",
    "Surfing = (\"surf|kite|board\",\"Surfing\")\n",
    "Near_shore = (\"play|walk|climb|beach|jump|stand|film\",\"Near_shore\")\n",
    "activities = [Swimming,Fishing,Water_Sports,Surfing,Near_shore]\n",
    "act = []\n",
    "for a in activities:\n",
    "    act = shark_df['Activity'].apply(SearchActivity,pattern=a)\n",
    "    for i in range(shark_df.shape[0]):\n",
    "        if act[i]!=None:\n",
    "            shark_df['Activity'][i]=act[i]\n",
    "shark_df['Activity']\n",
    "shark_df_activity = shark_df.groupby(\"Activity\").agg({\"Activity\":\"count\"})\n",
    "shark_df_activity =shark_df_activity.rename(columns={\"Activity\":\"Count\"})\n",
    "shark_df_activity =shark_df_activity.sort_values(\"Count\",ascending= False).reset_index()\n",
    "shark_df_activity= shark_df_activity[(shark_df_activity.Count>100)]\n",
    "shark_df_activity.plot.bar(x=\"Activity\")"
   ]
  },
  {
   "cell_type": "code",
   "execution_count": 11,
   "metadata": {
    "scrolled": false
   },
   "outputs": [
    {
     "name": "stdout",
     "output_type": "stream",
     "text": [
      "There are 126 unknown cases\n"
     ]
    },
    {
     "data": {
      "text/html": [
       "<div>\n",
       "<style scoped>\n",
       "    .dataframe tbody tr th:only-of-type {\n",
       "        vertical-align: middle;\n",
       "    }\n",
       "\n",
       "    .dataframe tbody tr th {\n",
       "        vertical-align: top;\n",
       "    }\n",
       "\n",
       "    .dataframe thead th {\n",
       "        text-align: right;\n",
       "    }\n",
       "</style>\n",
       "<table border=\"1\" class=\"dataframe\">\n",
       "  <thead>\n",
       "    <tr style=\"text-align: right;\">\n",
       "      <th></th>\n",
       "      <th>Year</th>\n",
       "    </tr>\n",
       "    <tr>\n",
       "      <th>decada</th>\n",
       "      <th></th>\n",
       "    </tr>\n",
       "  </thead>\n",
       "  <tbody>\n",
       "    <tr>\n",
       "      <th>1960</th>\n",
       "      <td>565</td>\n",
       "    </tr>\n",
       "    <tr>\n",
       "      <th>1970</th>\n",
       "      <td>326</td>\n",
       "    </tr>\n",
       "    <tr>\n",
       "      <th>1980</th>\n",
       "      <td>438</td>\n",
       "    </tr>\n",
       "    <tr>\n",
       "      <th>1990</th>\n",
       "      <td>627</td>\n",
       "    </tr>\n",
       "    <tr>\n",
       "      <th>2000</th>\n",
       "      <td>1024</td>\n",
       "    </tr>\n",
       "    <tr>\n",
       "      <th>2010</th>\n",
       "      <td>733</td>\n",
       "    </tr>\n",
       "  </tbody>\n",
       "</table>\n",
       "</div>"
      ],
      "text/plain": [
       "        Year\n",
       "decada      \n",
       "1960     565\n",
       "1970     326\n",
       "1980     438\n",
       "1990     627\n",
       "2000    1024\n",
       "2010     733"
      ]
     },
     "metadata": {},
     "output_type": "display_data"
    },
    {
     "data": {
      "image/png": "[encoded data removed]",
      "text/plain": [
       "<Figure size 432x288 with 1 Axes>"
      ]
     },
     "metadata": {
      "needs_background": "light"
     },
     "output_type": "display_data"
    }
   ],
   "source": [
    "################### CASE NUMBER /DATE/ YEAR ########################\n",
    "shark_df.sort_values(\"Year\")\n",
    "case_info = {}\n",
    "case_info['Case'] = []\n",
    "case_info['Year'] = []\n",
    "case_info['Date']= []\n",
    "index = 0\n",
    "remove = []\n",
    "for case in shark_df[\"Case Number\"].values:\n",
    "    res = re.findall(r\"\\d{4}\\.\\d{2}\\.\\d{2}[\\.\\w]*\", case)\n",
    "    res2 = re.findall(r\"\\d{4}\", case)\n",
    "    res3 = re.findall(r\"\\d{4}\\.\\d{2}\\.\\d{2}\", case)\n",
    "    if res:\n",
    "        res3 = re.sub('\\.','/',res3[0])\n",
    "        case_info['Case'].append(res[0])\n",
    "        case_info['Year'].append(int(res2[0]))\n",
    "        case_info['Date'].append(res3)\n",
    "    else:\n",
    "        remove.append(index)\n",
    "    index += 1\n",
    "c_df = pd.DataFrame(case_info)\n",
    "print(f\"There are {shark_df.shape[0] - c_df.shape[0]} unknown cases\")\n",
    "c_df.sort_values(\"Year\", ascending= True)\n",
    "c_df = c_df.drop([5863, 5864, 5865],axis=0)\n",
    "c_df.Year.hist()\n",
    "c_df[\"decada\"] = pd.cut(c_df.Year.where(c_df['Year']>1950),bins=[1960,1970,1980,1990,2000,2010,2020], labels=range(1960,2020,10))\n",
    "display(c_df.groupby(\"decada\").agg({\"Year\":\"count\"}))\n",
    "shark_df = shark_df.drop(remove,axis=0)\n",
    "#shark_df = shark_df.drop([5863, 5864, 5865],axis=0)\n",
    "shark_df[['Date','Year']]= c_df[['Date','Year']]\n",
    "#shark_df = shark_df.drop('Case Number',axis=1)"
   ]
  },
  {
   "cell_type": "code",
   "execution_count": 12,
   "metadata": {
    "scrolled": false
   },
   "outputs": [
    {
     "data": {
      "text/plain": [
       "([<matplotlib.patches.Wedge at 0x7ff457d5a390>,\n",
       "  <matplotlib.patches.Wedge at 0x7ff457d5e1d0>,\n",
       "  <matplotlib.patches.Wedge at 0x7ff457d602d0>],\n",
       " [Text(0.905101566622012, 0.9331619120486968, 'FATAL'),\n",
       "  Text(-0.816565276199003, -0.7370353788700011, 'NONFATAL'),\n",
       "  Text(1.0975752672824082, -0.07299679890207766, 'UNKNOWN')],\n",
       " [Text(0.5569855794596996, 0.5742534843376595, '25%'),\n",
       "  Text(-0.44539924156309246, -0.4020192975654551, '72%'),\n",
       "  Text(0.5986774185176772, -0.03981643576476963, '2%')])"
      ]
     },
     "execution_count": 12,
     "metadata": {},
     "output_type": "execute_result"
    },
    {
     "data": {
      "image/png": "[encoded data removed]",
      "text/plain": [
       "<Figure size 432x288 with 1 Axes>"
      ]
     },
     "metadata": {},
     "output_type": "display_data"
    }
   ],
   "source": [
    "################### FATALITY #######################\n",
    "shark_df = shark_df.rename(columns = {\"Fatal (Y/N)\":\"Fatality\"})\n",
    "shark_df.Fatality = shark_df.Fatality.fillna(\"UNKNOWN\")\n",
    "def SearchYes(arr):\n",
    "    if arr == 'Y' :\n",
    "        return \"Fatal\"\n",
    "    elif arr == 'N' :\n",
    "        return \"NonFatal\"\n",
    "option = {}\n",
    "option['FATAL'] = sum(shark_df['Fatality'].apply(SearchYes)==\"Fatal\")\n",
    "option['NONFATAL'] = sum(shark_df['Fatality'].apply(SearchYes)==\"NonFatal\")\n",
    "option['UNKNOWN'] = shark_df.shape[0] - option['FATAL'] - option['NONFATAL']\n",
    "plt.pie(option.values(), labels=option.keys(),explode=(0.20, 0, 0), autopct='%1d%%')\n"
   ]
  },
  {
   "cell_type": "code",
   "execution_count": 13,
   "metadata": {},
   "outputs": [
    {
     "data": {
      "text/plain": [
       "([<matplotlib.patches.Wedge at 0x7ff457d7b150>,\n",
       "  <matplotlib.patches.Wedge at 0x7ff457d7e290>,\n",
       "  <matplotlib.patches.Wedge at 0x7ff457d01450>],\n",
       " [Text(-1.067531077430182, 0.7418742472419129, 'MALE'),\n",
       "  Text(0.6765878888861986, -0.86731126397189, 'FEMALE'),\n",
       "  Text(1.0505496222526691, -0.3261065641546858, 'UNKNOWN')],\n",
       " [Text(-0.6569422014954966, 0.4565379983027156, '80%'),\n",
       "  Text(0.3690479393924719, -0.47307887125739445, '9%'),\n",
       "  Text(0.5730270666832741, -0.17787630772073768, '9%')])"
      ]
     },
     "execution_count": 13,
     "metadata": {},
     "output_type": "execute_result"
    },
    {
     "data": {
      "image/png": "[encoded data removed]",
      "text/plain": [
       "<Figure size 432x288 with 1 Axes>"
      ]
     },
     "metadata": {},
     "output_type": "display_data"
    }
   ],
   "source": [
    "################## SEX ###############  Same procedure as before\n",
    "shark_df = shark_df.rename(columns = {\"Sex \":\"Sex\"})\n",
    "shark_df.Sex = shark_df.Sex.fillna(\"UNKNOWN\")\n",
    "def SearchSex(arr):\n",
    "    if arr == 'M' :\n",
    "        return \"Male\"\n",
    "    elif arr == 'F' :\n",
    "        return \"Female\"\n",
    "option = {}\n",
    "option['MALE'] = sum(shark_df['Sex'].apply(SearchSex)==\"Male\")\n",
    "option['FEMALE'] = sum(shark_df['Sex'].apply(SearchSex)==\"Female\")\n",
    "option['UNKNOWN'] = shark_df.shape[0] - option['MALE'] - option['FEMALE']\n",
    "plt.pie(option.values(), labels=option.keys(),explode=(0.20, 0, 0), autopct='%1d%%')"
   ]
  },
  {
   "cell_type": "code",
   "execution_count": 14,
   "metadata": {},
   "outputs": [],
   "source": [
    "shark_df.Year = shark_df.Year.astype('str')\n",
    "shark_df.Year = shark_df.Year.str.replace(r\"\\.\\d\",\"\")\n",
    "Shark_csv_filtered = shark_df.to_csv()\n",
    "export_csv = shark_df.to_csv ('OUTPUT/Shark_export_df.csv', index = None, header=True) "
   ]
  },
  {
   "cell_type": "code",
   "execution_count": 15,
   "metadata": {},
   "outputs": [
    {
     "data": {
      "text/plain": [
       "Fatality  Sex    \n",
       "N         M          527\n",
       "          F          109\n",
       "          UNKNOWN     26\n",
       "          M            1\n",
       "UNKNOWN   M            2\n",
       "          F            1\n",
       "Y         M           60\n",
       "          F           10\n",
       "          UNKNOWN      1\n",
       "Name: Sex, dtype: int64"
      ]
     },
     "execution_count": 15,
     "metadata": {},
     "output_type": "execute_result"
    }
   ],
   "source": [
    "shark_df.where(shark_df['Year']>'2010').groupby(\"Fatality\")[\"Sex\"].value_counts()"
   ]
  },
  {
   "cell_type": "code",
   "execution_count": 16,
   "metadata": {},
   "outputs": [
    {
     "data": {
      "text/html": [
       "<div>\n",
       "<style scoped>\n",
       "    .dataframe tbody tr th:only-of-type {\n",
       "        vertical-align: middle;\n",
       "    }\n",
       "\n",
       "    .dataframe tbody tr th {\n",
       "        vertical-align: top;\n",
       "    }\n",
       "\n",
       "    .dataframe thead th {\n",
       "        text-align: right;\n",
       "    }\n",
       "</style>\n",
       "<table border=\"1\" class=\"dataframe\">\n",
       "  <thead>\n",
       "    <tr style=\"text-align: right;\">\n",
       "      <th></th>\n",
       "      <th>Year</th>\n",
       "    </tr>\n",
       "  </thead>\n",
       "  <tbody>\n",
       "    <tr>\n",
       "      <th>2010</th>\n",
       "      <td>1</td>\n",
       "    </tr>\n",
       "    <tr>\n",
       "      <th>1963</th>\n",
       "      <td>1</td>\n",
       "    </tr>\n",
       "    <tr>\n",
       "      <th>1883</th>\n",
       "      <td>1</td>\n",
       "    </tr>\n",
       "    <tr>\n",
       "      <th>1852</th>\n",
       "      <td>1</td>\n",
       "    </tr>\n",
       "  </tbody>\n",
       "</table>\n",
       "</div>"
      ],
      "text/plain": [
       "      Year\n",
       "2010     1\n",
       "1963     1\n",
       "1883     1\n",
       "1852     1"
      ]
     },
     "execution_count": 16,
     "metadata": {},
     "output_type": "execute_result"
    }
   ],
   "source": [
    "#Years of fatal attacks to mens which were surfing in florida\n",
    "pd.DataFrame(shark_df.where((shark_df['Fatality']=='Y')&(shark_df['Sex']=='M')&(shark_df['Activity']=='Surfing')&(shark_df['Area']=='Florida'))[\"Year\"].value_counts())"
   ]
  },
  {
   "cell_type": "code",
   "execution_count": 17,
   "metadata": {},
   "outputs": [
    {
     "name": "stderr",
     "output_type": "stream",
     "text": [
      "/usr/local/lib/python3.7/dist-packages/ipykernel_launcher.py:3: FutureWarning: Sorting because non-concatenation axis is not aligned. A future version\n",
      "of pandas will change to not sort by default.\n",
      "\n",
      "To accept the future behavior, pass 'sort=False'.\n",
      "\n",
      "To retain the current behavior and silence the warning, pass 'sort=True'.\n",
      "\n",
      "  This is separate from the ipykernel package so we can avoid doing imports until\n"
     ]
    },
    {
     "data": {
      "text/html": [
       "<div>\n",
       "<style scoped>\n",
       "    .dataframe tbody tr th:only-of-type {\n",
       "        vertical-align: middle;\n",
       "    }\n",
       "\n",
       "    .dataframe tbody tr th {\n",
       "        vertical-align: top;\n",
       "    }\n",
       "\n",
       "    .dataframe thead th {\n",
       "        text-align: right;\n",
       "    }\n",
       "</style>\n",
       "<table border=\"1\" class=\"dataframe\">\n",
       "  <thead>\n",
       "    <tr style=\"text-align: right;\">\n",
       "      <th></th>\n",
       "      <th>Male Fatality</th>\n",
       "      <th>Female Fatality</th>\n",
       "    </tr>\n",
       "  </thead>\n",
       "  <tbody>\n",
       "    <tr>\n",
       "      <th>N</th>\n",
       "      <td>221</td>\n",
       "      <td>31.0</td>\n",
       "    </tr>\n",
       "    <tr>\n",
       "      <th>Y</th>\n",
       "      <td>19</td>\n",
       "      <td>NaN</td>\n",
       "    </tr>\n",
       "  </tbody>\n",
       "</table>\n",
       "</div>"
      ],
      "text/plain": [
       "   Male Fatality  Female Fatality\n",
       "N            221             31.0\n",
       "Y             19              NaN"
      ]
     },
     "execution_count": 17,
     "metadata": {},
     "output_type": "execute_result"
    }
   ],
   "source": [
    "t = pd.DataFrame(shark_df.where((shark_df['Year']>'2010')&(shark_df['Sex']=='M')&(shark_df['Activity']=='Surfing'))[\"Fatality\"].value_counts()).rename(columns ={\"Fatality\":\"Male Fatality\"})\n",
    "w=pd.DataFrame(shark_df.where((shark_df['Year']>'2010')&(shark_df['Sex']=='F')&(shark_df['Activity']=='Surfing'))[\"Fatality\"].value_counts()).rename(columns ={\"Fatality\":\"Female Fatality\"})\n",
    "pd.concat([t,w],axis = 1)"
   ]
  }
 ],
 "metadata": {
  "kernelspec": {
   "display_name": "Python 3",
   "language": "python",
   "name": "python3"
  },
  "language_info": {
   "codemirror_mode": {
    "name": "ipython",
    "version": 3
   },
   "file_extension": ".py",
   "mimetype": "text/x-python",
   "name": "python",
   "nbconvert_exporter": "python",
   "pygments_lexer": "ipython3",
   "version": "3.7.5"
  }
 },
 "nbformat": 4,
 "nbformat_minor": 4
}
